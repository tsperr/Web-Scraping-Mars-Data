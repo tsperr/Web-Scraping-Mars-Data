{
 "cells": [
  {
   "cell_type": "code",
   "execution_count": 1,
   "metadata": {},
   "outputs": [
    {
     "name": "stdout",
     "output_type": "stream",
     "text": [
      "Requirement already satisfied: bs4 in /opt/anaconda3/envs/PythonData/lib/python3.6/site-packages (0.0.1)\r\n",
      "Requirement already satisfied: beautifulsoup4 in /opt/anaconda3/envs/PythonData/lib/python3.6/site-packages (from bs4) (4.9.3)\r\n",
      "Requirement already satisfied: soupsieve>1.2; python_version >= \"3.0\" in /opt/anaconda3/envs/PythonData/lib/python3.6/site-packages (from beautifulsoup4->bs4) (2.2.1)\r\n"
     ]
    }
   ],
   "source": [
    "! pip install bs4"
   ]
  },
  {
   "cell_type": "code",
   "execution_count": 2,
   "metadata": {},
   "outputs": [
    {
     "name": "stdout",
     "output_type": "stream",
     "text": [
      "Requirement already satisfied: lxml in /opt/anaconda3/envs/PythonData/lib/python3.6/site-packages (4.6.3)\r\n"
     ]
    }
   ],
   "source": [
    "! pip install lxml"
   ]
  },
  {
   "cell_type": "code",
   "execution_count": 3,
   "metadata": {},
   "outputs": [],
   "source": [
    "from bs4 import BeautifulSoup\n",
    "from splinter import Browser\n",
    "import pandas as pd \n",
    "import requests \n",
    "from webdriver_manager.chrome import ChromeDriverManager"
   ]
  },
  {
   "cell_type": "code",
   "execution_count": 4,
   "metadata": {},
   "outputs": [
    {
     "name": "stderr",
     "output_type": "stream",
     "text": [
      "\n",
      "\n",
      "====== WebDriver manager ======\n",
      "Current google-chrome version is 90.0.4430\n",
      "Get LATEST driver version for 90.0.4430\n",
      "Driver [/Users/taylorsperry/.wdm/drivers/chromedriver/mac64/90.0.4430.24/chromedriver] found in cache\n"
     ]
    }
   ],
   "source": [
    "# Setup splinter\n",
    "executable_path = {'executable_path': ChromeDriverManager().install()}\n",
    "browser = Browser('chrome', **executable_path, headless=False)"
   ]
  },
  {
   "cell_type": "code",
   "execution_count": 5,
   "metadata": {},
   "outputs": [],
   "source": [
    "# NASA MARS NEWS\n",
    "url= 'https://redplanetscience.com/'\n",
    "browser.visit(url)"
   ]
  },
  {
   "cell_type": "code",
   "execution_count": 6,
   "metadata": {},
   "outputs": [
    {
     "name": "stdout",
     "output_type": "stream",
     "text": [
      "Latest NASA News: 0 -------------\n",
      "Mars InSight Lander to Push on Top of the 'Mole'\n",
      "Latest NASA News: 0 -------------\n",
      "Engineers have a plan for pushing down on the heat probe, which has been stuck at the Martian surface for a year.\n"
     ]
    }
   ],
   "source": [
    "#collect the latest News Title and Paragraph Text. \n",
    "#Assign the text to variables that you can reference later.\n",
    "\n",
    "for x in range(0,1):\n",
    "    \n",
    "    html = browser.html\n",
    "    soup = BeautifulSoup(html, 'html.parser')\n",
    "    \n",
    "    news_title=soup.find('div', class_='content_title')\n",
    "    paragraph=soup.find('div', class_='article_teaser_body')\n",
    "    \n",
    "    for words in news_title, paragraph:\n",
    "        print('Latest NASA News:', x, '-------------')\n",
    "        print(words.text)\n"
   ]
  },
  {
   "cell_type": "code",
   "execution_count": 7,
   "metadata": {},
   "outputs": [],
   "source": [
    "# JPL MARS SPACE IMAGES\n",
    "url= 'https://spaceimages-mars.com'\n",
    "browser.visit(url)"
   ]
  },
  {
   "cell_type": "code",
   "execution_count": 8,
   "metadata": {},
   "outputs": [
    {
     "name": "stdout",
     "output_type": "stream",
     "text": [
      "The jpg is: image/featured/mars2.jpg\n"
     ]
    }
   ],
   "source": [
    "# find the image url for the current Featured Mars Image\n",
    "# assign the url string to a variable called `featured_image_url`.\n",
    "\n",
    "for x in range(0,1):\n",
    "    \n",
    "    html = browser.html\n",
    "    soup = BeautifulSoup(html, 'html.parser')\n",
    "    \n",
    "    featured_image_url= soup.find_all('img', class_='headerimage')\n",
    "    \n",
    "    for item in featured_image_url:\n",
    "        print('The jpg is:', item['src'])\n",
    "    "
   ]
  },
  {
   "cell_type": "code",
   "execution_count": 9,
   "metadata": {},
   "outputs": [
    {
     "data": {
      "text/html": [
       "<div>\n",
       "<style scoped>\n",
       "    .dataframe tbody tr th:only-of-type {\n",
       "        vertical-align: middle;\n",
       "    }\n",
       "\n",
       "    .dataframe tbody tr th {\n",
       "        vertical-align: top;\n",
       "    }\n",
       "\n",
       "    .dataframe thead th {\n",
       "        text-align: right;\n",
       "    }\n",
       "</style>\n",
       "<table border=\"1\" class=\"dataframe\">\n",
       "  <thead>\n",
       "    <tr style=\"text-align: right;\">\n",
       "      <th></th>\n",
       "      <th>0</th>\n",
       "      <th>1</th>\n",
       "      <th>2</th>\n",
       "    </tr>\n",
       "  </thead>\n",
       "  <tbody>\n",
       "    <tr>\n",
       "      <th>0</th>\n",
       "      <td>Mars - Earth Comparison</td>\n",
       "      <td>Mars</td>\n",
       "      <td>Earth</td>\n",
       "    </tr>\n",
       "    <tr>\n",
       "      <th>1</th>\n",
       "      <td>Diameter:</td>\n",
       "      <td>6,779 km</td>\n",
       "      <td>12,742 km</td>\n",
       "    </tr>\n",
       "    <tr>\n",
       "      <th>2</th>\n",
       "      <td>Mass:</td>\n",
       "      <td>6.39 × 10^23 kg</td>\n",
       "      <td>5.97 × 10^24 kg</td>\n",
       "    </tr>\n",
       "    <tr>\n",
       "      <th>3</th>\n",
       "      <td>Moons:</td>\n",
       "      <td>2</td>\n",
       "      <td>1</td>\n",
       "    </tr>\n",
       "    <tr>\n",
       "      <th>4</th>\n",
       "      <td>Distance from Sun:</td>\n",
       "      <td>227,943,824 km</td>\n",
       "      <td>149,598,262 km</td>\n",
       "    </tr>\n",
       "    <tr>\n",
       "      <th>5</th>\n",
       "      <td>Length of Year:</td>\n",
       "      <td>687 Earth days</td>\n",
       "      <td>365.24 days</td>\n",
       "    </tr>\n",
       "    <tr>\n",
       "      <th>6</th>\n",
       "      <td>Temperature:</td>\n",
       "      <td>-87 to -5 °C</td>\n",
       "      <td>-88 to 58°C</td>\n",
       "    </tr>\n",
       "  </tbody>\n",
       "</table>\n",
       "</div>"
      ],
      "text/plain": [
       "                         0                1                2\n",
       "0  Mars - Earth Comparison             Mars            Earth\n",
       "1                Diameter:         6,779 km        12,742 km\n",
       "2                    Mass:  6.39 × 10^23 kg  5.97 × 10^24 kg\n",
       "3                   Moons:                2                1\n",
       "4       Distance from Sun:   227,943,824 km   149,598,262 km\n",
       "5          Length of Year:   687 Earth days      365.24 days\n",
       "6             Temperature:     -87 to -5 °C      -88 to 58°C"
      ]
     },
     "execution_count": 9,
     "metadata": {},
     "output_type": "execute_result"
    }
   ],
   "source": [
    "# MARS FACTS\n",
    "\n",
    "# use Pandas to scrape the table containing facts about the planet \n",
    "# including Diameter, Mass, etc.\n",
    "\n",
    "url= 'https://galaxyfacts-mars.com'\n",
    "tables = pd.read_html(url)\n",
    "df=tables[0]\n",
    "df"
   ]
  },
  {
   "cell_type": "code",
   "execution_count": 10,
   "metadata": {},
   "outputs": [
    {
     "data": {
      "text/plain": [
       "'<table border=\"1\" class=\"dataframe\">  <thead>    <tr style=\"text-align: right;\">      <th></th>      <th>0</th>      <th>1</th>      <th>2</th>    </tr>  </thead>  <tbody>    <tr>      <th>0</th>      <td>Mars - Earth Comparison</td>      <td>Mars</td>      <td>Earth</td>    </tr>    <tr>      <th>1</th>      <td>Diameter:</td>      <td>6,779 km</td>      <td>12,742 km</td>    </tr>    <tr>      <th>2</th>      <td>Mass:</td>      <td>6.39 × 10^23 kg</td>      <td>5.97 × 10^24 kg</td>    </tr>    <tr>      <th>3</th>      <td>Moons:</td>      <td>2</td>      <td>1</td>    </tr>    <tr>      <th>4</th>      <td>Distance from Sun:</td>      <td>227,943,824 km</td>      <td>149,598,262 km</td>    </tr>    <tr>      <th>5</th>      <td>Length of Year:</td>      <td>687 Earth days</td>      <td>365.24 days</td>    </tr>    <tr>      <th>6</th>      <td>Temperature:</td>      <td>-87 to -5 °C</td>      <td>-88 to 58°C</td>    </tr>  </tbody></table>'"
      ]
     },
     "execution_count": 10,
     "metadata": {},
     "output_type": "execute_result"
    }
   ],
   "source": [
    "# Use Pandas to convert the data to a HTML table string.\n",
    "\n",
    "html_table = df.to_html()\n",
    "html_table.replace('\\n', '')"
   ]
  },
  {
   "cell_type": "code",
   "execution_count": 19,
   "metadata": {},
   "outputs": [],
   "source": [
    "# MARS HEMISPHERES\n",
    "url= 'https://marshemispheres.com/'\n",
    "browser.visit(url)"
   ]
  },
  {
   "cell_type": "code",
   "execution_count": 58,
   "metadata": {},
   "outputs": [
    {
     "name": "stdout",
     "output_type": "stream",
     "text": [
      "---------\n",
      "images/39d3266553462198bd2fbc4d18fbed17_cerberus_enhanced.tif_thumb.png\n",
      "<h3>Cerberus Hemisphere Enhanced</h3>\n",
      "---------\n",
      "images/08eac6e22c07fb1fe72223a79252de20_schiaparelli_enhanced.tif_thumb.png\n",
      "<h3>Cerberus Hemisphere Enhanced</h3>\n",
      "---------\n",
      "images/55a0a1e2796313fdeafb17c35925e8ac_syrtis_major_enhanced.tif_thumb.png\n",
      "<h3>Cerberus Hemisphere Enhanced</h3>\n",
      "---------\n",
      "images/4e59980c1c57f89c680c0e1ccabbeff1_valles_marineris_enhanced.tif_thumb.png\n",
      "<h3>Cerberus Hemisphere Enhanced</h3>\n",
      "---------\n",
      "images/39d3266553462198bd2fbc4d18fbed17_cerberus_enhanced.tif_thumb.png\n",
      "<h3>Cerberus Hemisphere Enhanced</h3>\n",
      "---------\n",
      "images/08eac6e22c07fb1fe72223a79252de20_schiaparelli_enhanced.tif_thumb.png\n",
      "<h3>Cerberus Hemisphere Enhanced</h3>\n",
      "---------\n",
      "images/55a0a1e2796313fdeafb17c35925e8ac_syrtis_major_enhanced.tif_thumb.png\n",
      "<h3>Cerberus Hemisphere Enhanced</h3>\n",
      "---------\n",
      "images/4e59980c1c57f89c680c0e1ccabbeff1_valles_marineris_enhanced.tif_thumb.png\n",
      "<h3>Cerberus Hemisphere Enhanced</h3>\n",
      "---------\n",
      "images/39d3266553462198bd2fbc4d18fbed17_cerberus_enhanced.tif_thumb.png\n",
      "<h3>Cerberus Hemisphere Enhanced</h3>\n",
      "---------\n",
      "images/08eac6e22c07fb1fe72223a79252de20_schiaparelli_enhanced.tif_thumb.png\n",
      "<h3>Cerberus Hemisphere Enhanced</h3>\n",
      "---------\n",
      "images/55a0a1e2796313fdeafb17c35925e8ac_syrtis_major_enhanced.tif_thumb.png\n",
      "<h3>Cerberus Hemisphere Enhanced</h3>\n",
      "---------\n",
      "images/4e59980c1c57f89c680c0e1ccabbeff1_valles_marineris_enhanced.tif_thumb.png\n",
      "<h3>Cerberus Hemisphere Enhanced</h3>\n",
      "---------\n",
      "images/39d3266553462198bd2fbc4d18fbed17_cerberus_enhanced.tif_thumb.png\n",
      "<h3>Cerberus Hemisphere Enhanced</h3>\n",
      "---------\n",
      "images/08eac6e22c07fb1fe72223a79252de20_schiaparelli_enhanced.tif_thumb.png\n",
      "<h3>Cerberus Hemisphere Enhanced</h3>\n",
      "---------\n",
      "images/55a0a1e2796313fdeafb17c35925e8ac_syrtis_major_enhanced.tif_thumb.png\n",
      "<h3>Cerberus Hemisphere Enhanced</h3>\n",
      "---------\n",
      "images/4e59980c1c57f89c680c0e1ccabbeff1_valles_marineris_enhanced.tif_thumb.png\n",
      "<h3>Cerberus Hemisphere Enhanced</h3>\n"
     ]
    }
   ],
   "source": [
    "# Save both the image url string for the full resolution hemisphere image, and \n",
    "# the Hemisphere title containing the hemisphere name. Use a Python dictionary to store\n",
    "# the data using the keys `img_url` and `title`.\n",
    "\n",
    "for x in range(0,4):\n",
    "    \n",
    "        html = browser.html\n",
    "        soup = BeautifulSoup(html, 'html.parser')\n",
    "    \n",
    "        img_url= soup.find_all('img', class_='thumb')\n",
    "        title= soup.find('h3')\n",
    "       \n",
    "    \n",
    "        for item in img_url:\n",
    "            print('---------')\n",
    "            print(item['src'])\n",
    "            print(title)\n",
    "            hemisphere_image_urls.append({\"title\": title})\n",
    "            hemisphere_image_urls.append({\"image url\": img_url})\n",
    "            \n",
    "            #Dictionary \n",
    "            hemisphere_image_urls=[\n",
    "                {\"title\": title, \"image url\": img_url}\n",
    "            ]"
   ]
  },
  {
   "cell_type": "code",
   "execution_count": null,
   "metadata": {},
   "outputs": [],
   "source": [
    "from flask import Flask, render_template, redirect\n",
    "from flask_pymongo import PyMongo\n",
    "\n",
    "# Create an instance of Flask\n",
    "app = Flask(__name__)\n",
    "\n",
    "# Use PyMongo to establish Mongo connection\n",
    "mongo = PyMongo(app, uri=\"mongodb://localhost:27017/scrape_mars\")\n",
    "\n",
    "\n",
    "# Route to render index.html template using data from Mongo\n",
    "@app.route(\"/\")\n",
    "def home():\n",
    "\n",
    "    # Find one record of data from the mongo database\n",
    "    mars_data = mongo.db.collection.find_one()\n",
    "\n",
    "    # Return template and data\n",
    "    return render_template(\"index.html\", scrape_mars=mars_data)"
   ]
  },
  {
   "cell_type": "code",
   "execution_count": 66,
   "metadata": {},
   "outputs": [],
   "source": [
    "# converting your Jupyter notebook into a Python script called `scrape_mars.py` with \n",
    "# a function called `scrape` \n",
    "\n",
    "def init_browser():\n",
    "    executable_path = {\"executable_path\":\"C:\\chromedriver_win32\\chromedriver\"}\n",
    "    return Browser(\"chrome\", **executable_path, headless = False)"
   ]
  },
  {
   "cell_type": "code",
   "execution_count": null,
   "metadata": {},
   "outputs": [],
   "source": [
    "mars_facts_data = {}\n",
    "\n",
    "@app.route(\"/scrape\")\n",
    "def scrape():\n",
    "    try: \n",
    "\n",
    "        # Nasa News Scraping\n",
    "        browser = init_browser()\n",
    "\n",
    "        # Visit Nasa news url through splinter module\n",
    "        url = 'https://mars.nasa.gov/news/'\n",
    "        browser.visit(url)\n",
    "\n",
    "        html = browser.html\n",
    "        soup = BeautifulSoup(html, 'html.parser')\n",
    "\n",
    "        news_title = soup.find('div', class_='content_title').find('a').text\n",
    "        news_p = soup.find('div', class_='article_teaser_body').text\n",
    "        \n",
    "        mars_info['news_title'] = news_title\n",
    "        mars_info['news_paragraph'] = news_p\n",
    "\n",
    "        return mars_info\n",
    "\n",
    "    finally:\n",
    "\n",
    "        browser.quit()\n",
    "        \n",
    "    try: \n",
    "        \n",
    "        # Space Image Scraping\n",
    "        browser = init_browser()\n",
    "\n",
    "        # Visit Mars Space Images through splinter module\n",
    "        image_url_featured = 'https://www.jpl.nasa.gov/spaceimages/?search=&category=Mars'\n",
    "        browser.visit(image_url_featured)# Visit Mars Space Images through splinter module\n",
    "\n",
    "        html_image = browser.html\n",
    "        soup = BeautifulSoup(html_image, 'html.parser')\n",
    "\n",
    "        # Retrieve background-image url from style tag \n",
    "        featured_image_url  = soup.find('article')['style'].replace('background-image: url(','').replace(');', '')[1:-1]\n",
    "\n",
    "        # Website Url \n",
    "        main_url = 'https://www.jpl.nasa.gov'\n",
    "\n",
    "        # Concatenate website url with scrapped route\n",
    "        featured_image_url = main_url + featured_image_url\n",
    "\n",
    "        # Display full link to featured image\n",
    "        featured_image_url \n",
    "\n",
    "        # Dictionary entry from FEATURED IMAGE\n",
    "        mars_info['featured_image_url'] = featured_image_url \n",
    "        \n",
    "        return mars_info\n",
    "   \n",
    "    finally:\n",
    "\n",
    "        browser.quit()\n",
    "\n",
    "        \n",
    "         # Visit Mars facts url \n",
    "    facts_url = 'http://space-facts.com/mars/'\n",
    "\n",
    "    mars_facts = pd.read_html(facts_url)\n",
    "\n",
    "    # Find the mars facts DataFrame in the list of DataFrames as assign it to `mars_df`\n",
    "    mars_df = mars_facts[0]\n",
    "\n",
    "    mars_df.columns = ['Description','Value']\n",
    "\n",
    "    # Set the index to the `Description` column without row indexing\n",
    "    mars_df.set_index('Description', inplace=True)\n",
    "\n",
    "    # Save html code \n",
    "    data = mars_df.to_html()\n",
    "\n",
    "    # Dictionary entry from MARS FACTS\n",
    "    mars_info['mars_facts'] = data\n",
    "\n",
    "    return mars_info\n",
    "\n",
    "     try: \n",
    "\n",
    "        # Hemispheres Scraping\n",
    "        browser = init_browser()\n",
    "\n",
    "        # Visit hemispheres website through splinter module \n",
    "        hemispheres_url = 'https://astrogeology.usgs.gov/search/results?q=hemisphere+enhanced&k1=target&v1=Mars'\n",
    "        browser.visit(hemispheres_url)\n",
    "\n",
    "        html_hemispheres = browser.html\n",
    "        soup = BeautifulSoup(html_hemispheres, 'html.parser')\n",
    "\n",
    "        # Retreive all items that contain mars hemispheres information\n",
    "        items = soup.find_all('div', class_='item')\n",
    "\n",
    "        # Create empty list for hemisphere urls \n",
    "        hiu = []\n",
    "\n",
    "        # Store the main_ul \n",
    "        hemispheres_main_url = 'https://astrogeology.usgs.gov' \n",
    "\n",
    "        # Loop through the items previously stored\n",
    "        for i in items: \n",
    "            # Store title\n",
    "            title = i.find('h3').text\n",
    "            \n",
    "            # Store link that leads to full image website\n",
    "            partial_img_url = i.find('a', class_='itemLink product-item')['href']\n",
    "            \n",
    "            # Visit the link that contains the full image website \n",
    "            browser.visit(hemispheres_main_url + partial_img_url)\n",
    "            \n",
    "            # HTML Object of individual hemisphere information website \n",
    "            partial_img_html = browser.html\n",
    "            \n",
    "            # Parse HTML with Beautiful Soup for every individual hemisphere information website \n",
    "            soup = BeautifulSoup( partial_img_html, 'html.parser')\n",
    "            \n",
    "            # Retrieve full image source \n",
    "            img_url = hemispheres_main_url + soup.find('img', class_='wide-image')['src']\n",
    "            \n",
    "            # Append the retreived information into a list of dictionaries \n",
    "            hiu.append({\"title\" : title, \"img_url\" : img_url})\n",
    "\n",
    "        mars_info['hiu'] = hiu\n",
    "\n",
    "        \n",
    "        # Return mars_data dictionary \n",
    "\n",
    "        return mars_info\n",
    "    finally:\n",
    "\n",
    "        browser.quit()\n",
    "   "
   ]
  },
  {
   "cell_type": "code",
   "execution_count": null,
   "metadata": {},
   "outputs": [],
   "source": [
    "if __name__ == \"__main__\":\n",
    "    app.run(debug=True)"
   ]
  },
  {
   "cell_type": "code",
   "execution_count": null,
   "metadata": {},
   "outputs": [],
   "source": []
  }
 ],
 "metadata": {
  "kernelspec": {
   "display_name": "Python [conda env:PythonData]",
   "language": "python",
   "name": "conda-env-PythonData-py"
  },
  "language_info": {
   "codemirror_mode": {
    "name": "ipython",
    "version": 3
   },
   "file_extension": ".py",
   "mimetype": "text/x-python",
   "name": "python",
   "nbconvert_exporter": "python",
   "pygments_lexer": "ipython3",
   "version": "3.6.10"
  }
 },
 "nbformat": 4,
 "nbformat_minor": 4
}
